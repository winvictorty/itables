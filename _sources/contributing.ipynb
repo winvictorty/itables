{
 "cells": [
  {
   "cell_type": "markdown",
   "id": "bf79c318",
   "metadata": {},
   "source": [
    "# Contributing\n",
    "\n",
    "Thanks for considering making a contribution to ITables. There are\n",
    "many ways you can help!\n",
    "\n",
    "## Report an issue\n",
    "\n",
    "If you see an issue, a possible improvement, or if you can't find\n",
    "the answer to your question, then you are very welcome to create\n",
    "an issue on this project. Please provide enough detail so that\n",
    "we can reproduce the issue.\n",
    "\n",
    "## Improve the documentation\n",
    "\n",
    "If you would like to add a new example,\n",
    "or improve the documentation, feel free to make a pull request!\n",
    "\n",
    "You can render the documentation locally - see the section on\n",
    "[Jupyter Book](developing.md#jupyter-book) in the developer guide.\n",
    "\n",
    "## Give credit to ITables\n",
    "\n",
    "It's always great to see new stars coming to ITables! <a class=\"github-button\" href=\"https://github.com/mwouts/itables\" data-icon=\"octicon-star\" data-show-count=\"true\"></a>\n",
    "<script src=\"https://buttons.github.io/buttons.js\"></script>\n",
    "\n",
    "If you wanted to share a link to ITables and DataTables (no obligation whatsoever), you could use something like this:"
   ]
  },
  {
   "cell_type": "code",
   "execution_count": 1,
   "id": "fdc223c0",
   "metadata": {},
   "outputs": [
    {
     "data": {
      "text/html": [
       "\n",
       "Tables displayed with <a href=https://mwouts.github.io/itables/>ITables</a>,\n",
       "a Python wrapper for <a href=https://datatables.net>DataTables</a>\n"
      ],
      "text/plain": [
       "<IPython.core.display.HTML object>"
      ]
     },
     "metadata": {},
     "output_type": "display_data"
    }
   ],
   "source": [
    "from IPython.display import HTML, display\n",
    "\n",
    "display(\n",
    "    HTML(\n",
    "        \"\"\"\n",
    "Tables displayed with <a href=https://mwouts.github.io/itables/>ITables</a>,\n",
    "a Python wrapper for <a href=https://datatables.net>DataTables</a>\n",
    "\"\"\"\n",
    "    )\n",
    ")"
   ]
  },
  {
   "cell_type": "markdown",
   "id": "b1116c0e",
   "metadata": {},
   "source": [
    "## Support DataTables\n",
    "\n",
    "Allan Jardine, the main developer of DataTables, has done a fantastic work on [DataTables](https://datatables.net/).\n",
    "\n",
    "If you enjoy his library, you could become a\n",
    "[supporter](https://datatables.net/supporters/) -\n",
    "contributions range from 9 to 99$/year before VAT.\n",
    "Or you could take a subscription for DataTable's [Editor](https://editor.datatables.net)\n",
    "that ITables might support in the future (please subscribe to [#243](https://github.com/mwouts/itables/issues/243) for updates).\n",
    "\n",
    "## Develop a new feature\n",
    "\n",
    "It is generally a good idea to get in touch with us first - e.g.\n",
    "open an issue and let us know what you'd like to do.\n",
    "\n",
    "But you can also simply clone the project and test your ideas.\n",
    "A guide on how to set up a development environment, and how to\n",
    "run some tests, is available [here](developing.md)."
   ]
  }
 ],
 "metadata": {
  "jupytext": {
   "formats": "md:myst",
   "notebook_metadata_filter": "-jupytext.text_representation.jupytext_version",
   "text_representation": {
    "extension": ".md",
    "format_name": "myst",
    "format_version": 0.13
   }
  },
  "kernelspec": {
   "display_name": "itables",
   "language": "python",
   "name": "itables"
  },
  "language_info": {
   "codemirror_mode": {
    "name": "ipython",
    "version": 3
   },
   "file_extension": ".py",
   "mimetype": "text/x-python",
   "name": "python",
   "nbconvert_exporter": "python",
   "pygments_lexer": "ipython3",
   "version": "3.11.9"
  },
  "source_map": [
   13,
   42,
   53
  ]
 },
 "nbformat": 4,
 "nbformat_minor": 5
}