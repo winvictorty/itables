{
 "cells": [
  {
   "cell_type": "markdown",
   "id": "74de5d85",
   "metadata": {},
   "source": [
    "# HTML export\n",
    "\n",
    "To get the HTML representation of a Pandas DataFrame `df` as an interactive [DataTable](https://datatables.net/), you can use `to_html_datatable` as below:"
   ]
  },
  {
   "cell_type": "code",
   "execution_count": 1,
   "id": "39d8a70c",
   "metadata": {},
   "outputs": [],
   "source": [
    "from IPython.display import HTML, display\n",
    "\n",
    "from itables import to_html_datatable\n",
    "from itables.sample_dfs import get_countries\n",
    "\n",
    "df = get_countries(html=False)\n",
    "html = to_html_datatable(df.head(3), display_logo_when_loading=False)"
   ]
  },
  {
   "cell_type": "markdown",
   "id": "2f28f421",
   "metadata": {},
   "source": [
    "You can then save the `html` variable to a text file (note: if you're writing an HTML application, you could consider using [Shiny](shiny.md) or [Streamlit](streamlit.md) instead), or print it:"
   ]
  },
  {
   "cell_type": "code",
   "execution_count": 2,
   "id": "e7ae8848",
   "metadata": {
    "tags": [
     "scroll-output"
    ]
   },
   "outputs": [
    {
     "name": "stdout",
     "output_type": "stream",
     "text": [
      "<table id=\"itables_e8f94d01_8639_45ae_a3ac_a63100357ac2\" class=\"display nowrap\" data-quarto-disable-processing=\"true\" style=\"table-layout:auto;width:auto;margin:auto;caption-side:bottom\">\n",
      "<thead>\n",
      "    <tr style=\"text-align: right;\">\n",
      "      <th></th>\n",
      "      <th>region</th>\n",
      "      <th>country</th>\n",
      "      <th>capital</th>\n",
      "      <th>longitude</th>\n",
      "      <th>latitude</th>\n",
      "    </tr>\n",
      "    <tr>\n",
      "      <th>code</th>\n",
      "      <th></th>\n",
      "      <th></th>\n",
      "      <th></th>\n",
      "      <th></th>\n",
      "      <th></th>\n",
      "    </tr>\n",
      "  </thead><tbody><tr>\n",
      "<td style=\"vertical-align:middle; text-align:left\">\n",
      "<div>\n",
      "Loading ITables v2.1.4 from the internet...\n",
      "(need <a href=https://mwouts.github.io/itables/troubleshooting.html>help</a>?)</td>\n",
      "</div>\n",
      "</tr></tbody>\n",
      "\n",
      "</table>\n",
      "<link href=\"https://www.unpkg.com/dt_for_itables@2.0.11/dt_bundle.css\" rel=\"stylesheet\">\n",
      "<script type=\"module\">\n",
      "    import {DataTable, jQuery as $} from 'https://www.unpkg.com/dt_for_itables@2.0.11/dt_bundle.js';\n",
      "\n",
      "    document.querySelectorAll(\"#itables_e8f94d01_8639_45ae_a3ac_a63100357ac2:not(.dataTable)\").forEach(table => {\n",
      "        // Define the table data\n",
      "        const data = [[\"AW\", \"Latin America & Caribbean \", \"Aruba\", \"Oranjestad\", -70.0167, 12.5167], [\"AF\", \"South Asia\", \"Afghanistan\", \"Kabul\", 69.1761, 34.5228], [\"AO\", \"Sub-Saharan Africa \", \"Angola\", \"Luanda\", 13.242, -8.81155]];\n",
      "\n",
      "        // Define the dt_args\n",
      "        let dt_args = {\"layout\": {\"topStart\": null, \"topEnd\": null, \"bottomStart\": null, \"bottomEnd\": null}, \"order\": []};\n",
      "        dt_args[\"data\"] = data;\n",
      "\n",
      "        \n",
      "        new DataTable(table, dt_args);\n",
      "    });\n",
      "</script>\n",
      "\n"
     ]
    }
   ],
   "source": [
    "print(html)"
   ]
  },
  {
   "cell_type": "markdown",
   "id": "37dfe2fa",
   "metadata": {},
   "source": [
    "or display it, like `show` does:"
   ]
  },
  {
   "cell_type": "code",
   "execution_count": 3,
   "id": "6454d468",
   "metadata": {},
   "outputs": [
    {
     "data": {
      "text/html": [
       "<table id=\"itables_e8f94d01_8639_45ae_a3ac_a63100357ac2\" class=\"display nowrap\" data-quarto-disable-processing=\"true\" style=\"table-layout:auto;width:auto;margin:auto;caption-side:bottom\">\n",
       "<thead>\n",
       "    <tr style=\"text-align: right;\">\n",
       "      <th></th>\n",
       "      <th>region</th>\n",
       "      <th>country</th>\n",
       "      <th>capital</th>\n",
       "      <th>longitude</th>\n",
       "      <th>latitude</th>\n",
       "    </tr>\n",
       "    <tr>\n",
       "      <th>code</th>\n",
       "      <th></th>\n",
       "      <th></th>\n",
       "      <th></th>\n",
       "      <th></th>\n",
       "      <th></th>\n",
       "    </tr>\n",
       "  </thead><tbody><tr>\n",
       "<td style=\"vertical-align:middle; text-align:left\">\n",
       "<div>\n",
       "Loading ITables v2.1.4 from the internet...\n",
       "(need <a href=https://mwouts.github.io/itables/troubleshooting.html>help</a>?)</td>\n",
       "</div>\n",
       "</tr></tbody>\n",
       "\n",
       "</table>\n",
       "<link href=\"https://www.unpkg.com/dt_for_itables@2.0.11/dt_bundle.css\" rel=\"stylesheet\">\n",
       "<script type=\"module\">\n",
       "    import {DataTable, jQuery as $} from 'https://www.unpkg.com/dt_for_itables@2.0.11/dt_bundle.js';\n",
       "\n",
       "    document.querySelectorAll(\"#itables_e8f94d01_8639_45ae_a3ac_a63100357ac2:not(.dataTable)\").forEach(table => {\n",
       "        // Define the table data\n",
       "        const data = [[\"AW\", \"Latin America & Caribbean \", \"Aruba\", \"Oranjestad\", -70.0167, 12.5167], [\"AF\", \"South Asia\", \"Afghanistan\", \"Kabul\", 69.1761, 34.5228], [\"AO\", \"Sub-Saharan Africa \", \"Angola\", \"Luanda\", 13.242, -8.81155]];\n",
       "\n",
       "        // Define the dt_args\n",
       "        let dt_args = {\"layout\": {\"topStart\": null, \"topEnd\": null, \"bottomStart\": null, \"bottomEnd\": null}, \"order\": []};\n",
       "        dt_args[\"data\"] = data;\n",
       "\n",
       "        \n",
       "        new DataTable(table, dt_args);\n",
       "    });\n",
       "</script>\n"
      ],
      "text/plain": [
       "<IPython.core.display.HTML object>"
      ]
     },
     "metadata": {},
     "output_type": "display_data"
    }
   ],
   "source": [
    "display(HTML(html))"
   ]
  }
 ],
 "metadata": {
  "jupytext": {
   "formats": "md:myst",
   "notebook_metadata_filter": "-jupytext.text_representation.jupytext_version",
   "text_representation": {
    "extension": ".md",
    "format_name": "myst",
    "format_version": 0.13
   }
  },
  "kernelspec": {
   "display_name": "itables",
   "language": "python",
   "name": "itables"
  },
  "language_info": {
   "codemirror_mode": {
    "name": "ipython",
    "version": 3
   },
   "file_extension": ".py",
   "mimetype": "text/x-python",
   "name": "python",
   "nbconvert_exporter": "python",
   "pygments_lexer": "ipython3",
   "version": "3.11.9"
  },
  "source_map": [
   13,
   19,
   27,
   31,
   35,
   39
  ]
 },
 "nbformat": 4,
 "nbformat_minor": 5
}